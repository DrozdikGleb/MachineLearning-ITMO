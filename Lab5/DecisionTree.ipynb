{
 "cells": [
  {
   "cell_type": "code",
   "execution_count": 108,
   "metadata": {},
   "outputs": [],
   "source": [
    "import pandas as pd\n",
    "import math\n",
    "import numpy as np\n",
    "import matplotlib.pyplot as plt\n",
    "import random \n",
    "from tqdm import tqdm\n",
    "from sklearn.metrics import accuracy_score"
   ]
  },
  {
   "cell_type": "code",
   "execution_count": 67,
   "metadata": {},
   "outputs": [],
   "source": [
    "def read_data(index):\n",
    "    train = pd.read_csv('data/{:02d}_train.csv'.format(index))\n",
    "    train_x = train.iloc[:, :-1].to_numpy()\n",
    "    train_y = train.iloc[:, -1].to_numpy()\n",
    "    test = pd.read_csv('data/{:02d}_test.csv'.format(index))\n",
    "    test_x = test.iloc[:, :-1].to_numpy()\n",
    "    test_y = test.iloc[:, -1].to_numpy()\n",
    "    return train_x, train_y, test_x, test_y"
   ]
  },
  {
   "cell_type": "code",
   "execution_count": 140,
   "metadata": {},
   "outputs": [],
   "source": [
    "class DatasetObject:\n",
    "    def __init__(self, features = None, y = None):\n",
    "        self.features = features\n",
    "        self.y = y\n",
    "\n",
    "class GiniCalculator:\n",
    "    def __init__(self, objects = None):\n",
    "        self.gini_sum = 0\n",
    "        self.objects_amount = 0\n",
    "        if (objects is not None):\n",
    "            self.objects_amount = len(objects)\n",
    "        self.map_class_to_amount = {}\n",
    "        if (objects == None):\n",
    "            return\n",
    "        for elem in objects:\n",
    "            self.update_map(elem.y, True)\n",
    "        for k, v in self.map_class_to_amount.items():\n",
    "            self.gini_sum += pow(v, 2)\n",
    "\n",
    "    def update_map(self, y, isLeft):\n",
    "        if (isLeft):\n",
    "            if (y in self.map_class_to_amount):\n",
    "                self.map_class_to_amount[y] = self.map_class_to_amount[y] + 1\n",
    "            else:\n",
    "                self.map_class_to_amount[y] = 1\n",
    "        else:\n",
    "            self.map_class_to_amount[y] = self.map_class_to_amount[y] - 1\n",
    "\n",
    "    def update_as_left(self, y):\n",
    "        self.gini_sum -= pow(self.map_class_to_amount.get(y, 0), 2)\n",
    "        self.update_map(y, True)\n",
    "        self.gini_sum += pow(self.map_class_to_amount.get(y, 0), 2)\n",
    "        self.objects_amount = self.objects_amount + 1\n",
    "\n",
    "    def update_as_right(self, y):\n",
    "        self.gini_sum -= pow(self.map_class_to_amount.get(y, 0), 2)\n",
    "        self.update_map(y, False)\n",
    "        self.gini_sum += pow(self.map_class_to_amount.get(y, 0), 2)\n",
    "        self.objects_amount = self.objects_amount - 1\n",
    "\n",
    "    def get_gini(self):\n",
    "        if (self.objects_amount == 0):\n",
    "            return 1.0\n",
    "        else:\n",
    "            return 1.0 - self.gini_sum / pow(self.objects_amount, 2)\n",
    "\n",
    "class Node:\n",
    "    def __init__(self, objects = None):\n",
    "        self.root = None\n",
    "        self.objects = objects\n",
    "        self.left = None\n",
    "        self.right = None\n",
    "        self.clazz = None\n",
    "        self.parent = None\n",
    "        self.val = None\n",
    "        self.feature_id = None\n",
    "        \n",
    "    def isLeaf(self):\n",
    "        return self.left == None and self.right == None\n",
    "    \n",
    "    def build_children(self, feature_id, feature_val):\n",
    "        leftElems = []\n",
    "        rightElems = []\n",
    "        for elem in self.objects:\n",
    "            if (elem.features[feature_id] < feature_val):\n",
    "                leftElems.append(elem)\n",
    "            else:\n",
    "                rightElems.append(elem)\n",
    "        self.left = Node(leftElems)\n",
    "        self.right = Node(rightElems)\n",
    "        self.left.parent = self\n",
    "        self.right.parent = self\n",
    "    \n",
    "class DecisionTree:\n",
    "    def __init__(self, h=None):\n",
    "        self.h = 7\n",
    "        self.X = None\n",
    "        self.Y = None\n",
    "        self.objects = []\n",
    "        \n",
    "    def fit(self, X, Y):\n",
    "        self.X = X\n",
    "        self.Y = Y\n",
    "        self.features_num = len(X[0])\n",
    "        self.objects_num = len(X)\n",
    "        for i in range(self.objects_num):\n",
    "            cur_object = DatasetObject(X[i], Y[i])\n",
    "            self.objects.append(cur_object)\n",
    "        return self.build_tree(self.objects)\n",
    "    \n",
    "    def __predict(self, node, x):\n",
    "        if (node.left == None):\n",
    "            return node.clazz\n",
    "        if x[node.feature_id] < node.val:\n",
    "            return self.__predict(node.left, x)\n",
    "        else:\n",
    "            return self.__predict(node.right, x)\n",
    "    \n",
    "    def predict(self, x):\n",
    "        return self.__predict(self.root, x)\n",
    "        \n",
    "    def predict_all(self, X):\n",
    "        res = []\n",
    "        for i in range(len(X)):\n",
    "            res.append(self.predict(X[i]))\n",
    "        res = [-1 if v is None else v for v in res]\n",
    "        return res\n",
    "        \n",
    "    def build_tree(self, objects):\n",
    "        root = Node(objects)\n",
    "        self.root = root\n",
    "        return self.build_tree_inner(root, 1)\n",
    "    \n",
    "    def is_same_objects(self, objects):\n",
    "        first_y = objects[0].y\n",
    "        for elem in objects:\n",
    "            if (elem.y != first_y):\n",
    "                return False\n",
    "        return True\n",
    "        \n",
    "    def build_tree_inner(self, node, depth):\n",
    "        if (len(node.objects) == 0):\n",
    "            node.clazz = node.parent.clazz\n",
    "            return\n",
    "        if (self.is_same_objects(node.objects)):\n",
    "            node.clazz = node.objects[0].y\n",
    "            return\n",
    "        if (self.h is not None and depth > self.h):\n",
    "            node.clazz = self.get_most_common_class(node.objects)\n",
    "        else:\n",
    "            best_feature_id, best_feature_val = self.get_best_feature(node.objects)\n",
    "            node.build_children(best_feature_id, best_feature_val)\n",
    "            node.feature_id = best_feature_id\n",
    "            node.val = best_feature_val\n",
    "            self.build_tree_inner(node.left, depth + 1)\n",
    "            self.build_tree_inner(node.right, depth + 1)\n",
    "\n",
    "    def get_most_common_class(self, objects):\n",
    "        y = [elem.y for elem in objects]\n",
    "        return max(set(y), key=y.count)\n",
    "\n",
    "    def get_best_feature(self, objects):\n",
    "        gini_min = 100000\n",
    "        best_feature_id = -1\n",
    "        best_feature_val = -1\n",
    "        obj_num = len(objects)\n",
    "        for feature_id in range(self.features_num):\n",
    "            #sort by feature id\n",
    "            objects.sort(key = lambda cur_object: cur_object.features[feature_id])\n",
    "            left_calc = GiniCalculator(None)\n",
    "            right_calc = GiniCalculator(objects)\n",
    "            for j in range(obj_num - 1):\n",
    "                cur_object = objects[j]\n",
    "                next_object = objects[j + 1]\n",
    "                cur_val = (cur_object.features[feature_id] + next_object.features[feature_id]) / 2.0\n",
    "                left_calc.update_as_left(cur_object.y)\n",
    "                right_calc.update_as_right(cur_object.y)\n",
    "                cur_gini = (left_calc.objects_amount / obj_num) * left_calc.get_gini() + (right_calc.objects_amount / obj_num) * right_calc.get_gini()\n",
    "                #cur_gini = self.count_split_gini(objects, j)\n",
    "                if (cur_gini < gini_min):\n",
    "                    gini_min = cur_gini\n",
    "                    best_feature_id = feature_id\n",
    "                    best_feature_val = cur_val\n",
    "        return best_feature_id, best_feature_val\n",
    "    \n",
    "    def count_split_gini(self, objects, split_pos):\n",
    "        obj_len = len(objects)\n",
    "        left_obj_num = split_pos + 1\n",
    "        right_obj_num = obj_len - left_obj_num\n",
    "        right_gini = self.calc_gini_index(objects[left_obj_num:obj_len])\n",
    "        left_gini = self.calc_gini_index(objects[0:left_obj_num])\n",
    "        return (left_obj_num / obj_len) * left_gini + (right_obj_num / obj_len) * right_gini\n",
    "    \n",
    "    def calc_gini_index(self, objects):\n",
    "        class_to_amount = {}\n",
    "        obj_num = len(objects)\n",
    "        for elem in objects:\n",
    "            if (elem.y in class_to_amount):\n",
    "                class_to_amount[elem.y] = class_to_amount[elem.y] + 1\n",
    "            else:\n",
    "                class_to_amount[elem.y] = 1\n",
    "        gini_index = 0.0\n",
    "        for k, v in class_to_amount.items():\n",
    "            gini_index += pow(v / obj_num, 2)\n",
    "        return 1 - gini_index"
   ]
  },
  {
   "cell_type": "code",
   "execution_count": 71,
   "metadata": {},
   "outputs": [
    {
     "name": "stdout",
     "output_type": "stream",
     "text": [
      "(3891, 9)\n",
      "(3930, 100)\n",
      "(2074, 93)\n",
      "(2875, 98)\n",
      "(462, 10)\n",
      "(1812, 100)\n",
      "(2150, 94)\n",
      "(481, 91)\n",
      "(510, 45)\n",
      "(2485, 12)\n",
      "(2485, 14)\n",
      "(3563, 7)\n",
      "(1090, 91)\n",
      "(2591, 85)\n",
      "(1665, 38)\n",
      "(3210, 93)\n",
      "(1791, 91)\n",
      "(1343, 92)\n",
      "(1333, 13)\n",
      "(2524, 6)\n",
      "(1577, 7)\n"
     ]
    }
   ],
   "source": [
    "for index in range(1, 22):\n",
    "    train_x, _, _, _ = read_data(index)\n",
    "    print(train_x.shape)"
   ]
  },
  {
   "cell_type": "code",
   "execution_count": 72,
   "metadata": {},
   "outputs": [
    {
     "name": "stdout",
     "output_type": "stream",
     "text": [
      "best h for dataset 1 is 3 with accuracy = 0.999486\n",
      "best h for dataset 2 is 9 with accuracy = 0.644784\n",
      "best h for dataset 3 is 1 with accuracy = 1.000000\n",
      "best h for dataset 4 is 5 with accuracy = 0.990609\n",
      "best h for dataset 5 is 1 with accuracy = 0.995671\n",
      "best h for dataset 6 is 3 with accuracy = 0.992274\n",
      "best h for dataset 7 is 3 with accuracy = 0.995814\n",
      "best h for dataset 8 is 2 with accuracy = 0.997921\n",
      "best h for dataset 9 is 5 with accuracy = 0.815686\n",
      "best h for dataset 10 is 4 with accuracy = 0.993561\n",
      "best h for dataset 11 is 1 with accuracy = 0.999195\n",
      "best h for dataset 12 is 7 with accuracy = 0.866966\n",
      "best h for dataset 13 is 7 with accuracy = 0.627523\n",
      "best h for dataset 14 is 6 with accuracy = 0.956773\n",
      "best h for dataset 15 is 1 with accuracy = 1.000000\n",
      "best h for dataset 16 is 1 with accuracy = 1.000000\n",
      "best h for dataset 17 is 7 with accuracy = 0.815187\n",
      "best h for dataset 18 is 5 with accuracy = 0.934475\n",
      "best h for dataset 19 is 7 with accuracy = 0.807952\n",
      "best h for dataset 20 is 6 with accuracy = 0.965135\n",
      "best h for dataset 21 is 8 with accuracy = 0.778694\n"
     ]
    }
   ],
   "source": [
    "best_heights = []\n",
    "for index in range(1, 22):\n",
    "    train_x, train_y, test_x, test_y = read_data(index)\n",
    "    best_h = -1\n",
    "    best_score = -1\n",
    "    for h in range (1, 12):\n",
    "        tree = DecisionTree(h)\n",
    "        tree.fit(train_x, train_y)\n",
    "        predicted_y = tree.predict_all(test_x)\n",
    "        cur_score = accuracy_score(test_y, predicted_y)\n",
    "        if (cur_score > best_score):\n",
    "            best_score = cur_score\n",
    "            best_h = h\n",
    "    best_heights.append(best_h)\n",
    "    print('best h for dataset %d is %d with accuracy = %f' % (index, best_h, best_score))"
   ]
  },
  {
   "cell_type": "code",
   "execution_count": 100,
   "metadata": {},
   "outputs": [
    {
     "name": "stdout",
     "output_type": "stream",
     "text": [
      "min h is dataset - 10 with h = 1\n",
      "max h is dataset - 1 with h = 9\n",
      "mid h is dataset - 8 with h = 5\n"
     ]
    }
   ],
   "source": [
    "sort_indices = np.argsort(best_heights)\n",
    "min_dataset_index = sort_indices[0]\n",
    "max_dataset_index = sort_indices[-1]\n",
    "mid_dataset_index = sort_indices[len(sort_indices) // 2]\n",
    "print('min h is dataset - %d with h = %d' % (min_dataset_index, best_heights[min_dataset_index]))\n",
    "print('max h is dataset - %d with h = %d' % (max_dataset_index, best_heights[max_dataset_index]))\n",
    "print('mid h is dataset - %d with h = %d' % (mid_dataset_index, best_heights[mid_dataset_index]))"
   ]
  },
  {
   "cell_type": "code",
   "execution_count": 105,
   "metadata": {},
   "outputs": [],
   "source": [
    "def draw_h_accurancy_dependency(dataset_index, title):\n",
    "    train_x, train_y, test_x, test_y = read_data(dataset_index + 1)\n",
    "    train_accuracy_scores = []\n",
    "    test_accuracy_scores = []\n",
    "    heights = range(1, 12)\n",
    "    for h in heights:\n",
    "        tree = DecisionTree(h)\n",
    "        tree.fit(train_x, train_y)\n",
    "        predicted_y_test = tree.predict_all(test_x)\n",
    "        predicted_y_train = tree.predict_all(train_x)\n",
    "        cur_score_test = accuracy_score(predicted_y_test, test_y)\n",
    "        cur_score_train = accuracy_score(predicted_y_train, train_y)\n",
    "        \n",
    "        train_accuracy_scores.append(cur_score_train)\n",
    "        test_accuracy_scores.append(cur_score_test)\n",
    "    \n",
    "    plt.title(title)\n",
    "    plt.plot(heights, train_accuracy_scores, label='train dataset')\n",
    "    plt.plot(heights, test_accuracy_scores, label='test dataset')\n",
    "    plt.xlabel('Высота дерева')\n",
    "    plt.ylabel('Точность')\n",
    "    plt.legend()\n",
    "    plt.show()"
   ]
  },
  {
   "cell_type": "code",
   "execution_count": 102,
   "metadata": {},
   "outputs": [
    {
     "data": {
      "image/png": "[encoded data removed]",
      "text/plain": [
       "<Figure size 432x288 with 1 Axes>"
      ]
     },
     "metadata": {
      "needs_background": "light"
     },
     "output_type": "display_data"
    }
   ],
   "source": [
    "draw_h_accurancy_dependency(min_dataset_index, \"Минимальная оптимальная высота\")"
   ]
  },
  {
   "cell_type": "code",
   "execution_count": 103,
   "metadata": {},
   "outputs": [
    {
     "data": {
      "image/png": "[encoded data removed]",
      "text/plain": [
       "<Figure size 432x288 with 1 Axes>"
      ]
     },
     "metadata": {
      "needs_background": "light"
     },
     "output_type": "display_data"
    }
   ],
   "source": [
    "draw_h_accurancy_dependency(mid_dataset_index, \"Средняя оптимальная высота\")"
   ]
  },
  {
   "cell_type": "code",
   "execution_count": 104,
   "metadata": {},
   "outputs": [
    {
     "data": {
      "image/png": "[encoded data removed]",
      "text/plain": [
       "<Figure size 432x288 with 1 Axes>"
      ]
     },
     "metadata": {
      "needs_background": "light"
     },
     "output_type": "display_data"
    }
   ],
   "source": [
    "draw_h_accurancy_dependency(max_dataset_index, \"Максимальная оптимальная высота\")"
   ]
  },
  {
   "cell_type": "code",
   "execution_count": 135,
   "metadata": {},
   "outputs": [],
   "source": [
    "class RandomForest:\n",
    "    def __init__(self, trees_num, is_random_objects):\n",
    "        self.trees_num = trees_num\n",
    "        self.is_random_objects = is_random_objects\n",
    "        self.trees = []\n",
    "        \n",
    "    def __get_random_objects(self, X, y, new_size):\n",
    "        n = len(X)\n",
    "        new_X = []\n",
    "        new_y = []\n",
    "        for i in range(new_size):\n",
    "            index = random.randint(0, n - 1)\n",
    "            new_X.append(X[index])\n",
    "            new_y.append(y[index])\n",
    "        return new_X, new_y\n",
    "    \n",
    "    def __get_random_features(self, X, new_size):\n",
    "        n = len(X[0])\n",
    "        indices = []\n",
    "        for _ in range(new_size):\n",
    "            indices.append(random.randint(0, n - 1))\n",
    "        return [[x[i] for i in indices] for x in X]\n",
    "    \n",
    "    def fit(self, X, y):\n",
    "        for i in range(self.trees_num):\n",
    "            tree = DecisionTree()\n",
    "            random_X, random_y = X, y\n",
    "            if (self.is_random_objects):\n",
    "                random_X, random_y = self.__get_random_objects(X, y, int(np.sqrt(len(X))))\n",
    "            else:\n",
    "                random_X = self.__get_random_features(X, int(np.sqrt(len(X[0]))))\n",
    "            tree.fit(random_X, random_y)\n",
    "            self.trees.append(tree)\n",
    "    def predict(self, X):\n",
    "        vote_num = {}\n",
    "        for tree in self.trees:\n",
    "            pred_val = tree.predict(X)\n",
    "            if (pred_val in vote_num):\n",
    "                vote_num[pred_val] = vote_num[pred_val] + 1\n",
    "            else:\n",
    "                vote_num[pred_val] = 1\n",
    "        return max(vote_num, key=vote_num.get)\n",
    "    \n",
    "    def predict_all(self, X):\n",
    "        res = []\n",
    "        for i in range(len(X)):\n",
    "            res.append(self.predict(X[i]))\n",
    "        res = [-1 if v is None else v for v in res]\n",
    "        return res"
   ]
  },
  {
   "cell_type": "code",
   "execution_count": 142,
   "metadata": {},
   "outputs": [
    {
     "name": "stdout",
     "output_type": "stream",
     "text": [
      "Tree res for dataset 1 is 0.992033\n",
      "Feature forest res for dataset 1 is 0.354922\n",
      "Object forest res for dataset 1 is 0.987664\n",
      "Tree res for dataset 2 is 0.613740\n",
      "Feature forest res for dataset 2 is 0.135369\n",
      "Object forest res for dataset 2 is 0.139440\n",
      "Tree res for dataset 3 is 0.990357\n",
      "Feature forest res for dataset 3 is 0.864995\n",
      "Object forest res for dataset 3 is 0.999518\n",
      "Tree res for dataset 4 is 0.979478\n",
      "Feature forest res for dataset 4 is 0.502957\n",
      "Object forest res for dataset 4 is 0.838609\n",
      "Tree res for dataset 5 is 0.982684\n",
      "Feature forest res for dataset 5 is 0.922078\n",
      "Object forest res for dataset 5 is 0.969697\n",
      "Tree res for dataset 6 is 0.982340\n",
      "Feature forest res for dataset 6 is 0.382450\n",
      "Object forest res for dataset 6 is 0.933775\n",
      "Tree res for dataset 7 is 0.978140\n",
      "Feature forest res for dataset 7 is 0.354884\n",
      "Object forest res for dataset 7 is 0.843721\n",
      "Tree res for dataset 8 is 0.993763\n",
      "Feature forest res for dataset 8 is 0.787942\n",
      "Object forest res for dataset 8 is 0.970894\n",
      "Tree res for dataset 9 is 0.786275\n",
      "Feature forest res for dataset 9 is 0.203922\n",
      "Object forest res for dataset 9 is 0.292157\n",
      "Tree res for dataset 10 is 0.981891\n",
      "Feature forest res for dataset 10 is 0.247485\n",
      "Object forest res for dataset 10 is 0.965795\n",
      "Tree res for dataset 11 is 0.989940\n",
      "Feature forest res for dataset 11 is 0.710262\n",
      "Object forest res for dataset 11 is 0.997988\n",
      "Tree res for dataset 12 is 0.866966\n",
      "Feature forest res for dataset 12 is 0.362054\n",
      "Object forest res for dataset 12 is 0.621106\n",
      "Tree res for dataset 13 is 0.627523\n",
      "Feature forest res for dataset 13 is 0.267890\n",
      "Object forest res for dataset 13 is 0.284404\n",
      "Tree res for dataset 14 is 0.951756\n",
      "Feature forest res for dataset 14 is 0.222308\n",
      "Object forest res for dataset 14 is 0.706291\n",
      "Tree res for dataset 15 is 0.993994\n",
      "Feature forest res for dataset 15 is 0.898498\n",
      "Object forest res for dataset 15 is 0.990390\n",
      "Tree res for dataset 16 is 0.994393\n",
      "Feature forest res for dataset 16 is 0.497819\n",
      "Object forest res for dataset 16 is 0.994704\n",
      "Tree res for dataset 17 is 0.815187\n",
      "Feature forest res for dataset 17 is 0.136795\n",
      "Object forest res for dataset 17 is 0.159129\n",
      "Tree res for dataset 18 is 0.896500\n",
      "Feature forest res for dataset 18 is 0.451973\n",
      "Object forest res for dataset 18 is 0.620253\n",
      "Tree res for dataset 19 is 0.808702\n",
      "Feature forest res for dataset 19 is 0.229557\n",
      "Object forest res for dataset 19 is 0.496624\n",
      "Tree res for dataset 20 is 0.964739\n",
      "Feature forest res for dataset 20 is 0.371236\n",
      "Object forest res for dataset 20 is 0.836371\n",
      "Tree res for dataset 21 is 0.752695\n",
      "Feature forest res for dataset 21 is 0.171845\n",
      "Object forest res for dataset 21 is 0.370958\n"
     ]
    }
   ],
   "source": [
    "tree_scores = []\n",
    "random_forest_features_scores = []\n",
    "random_forest_objects_scores = []\n",
    "for index in range(1, 22):\n",
    "    train_x, train_y, test_x, test_y = read_data(index)\n",
    "    tree = DecisionTree(7)\n",
    "    tree.fit(train_x, train_y)\n",
    "    rand_features_forest = RandomForest(7, False)\n",
    "    rand_features_forest.fit(train_x, train_y)\n",
    "    rand_objects_forest = RandomForest(7, True)\n",
    "    rand_objects_forest.fit(train_x, train_y)\n",
    "    tree_res = accuracy_score(tree.predict_all(test_x), test_y)\n",
    "    features_forest_res = accuracy_score(rand_features_forest.predict_all(test_x), test_y)\n",
    "    objects_forest_res = accuracy_score(rand_objects_forest.predict_all(test_x), test_y)\n",
    "    tree_scores.append(tree_res)\n",
    "    random_forest_features_scores.append(features_forest_res)\n",
    "    random_forest_objects_scores.append(objects_forest_res)\n",
    "    print('Tree res for dataset %d is %f' % (index, tree_res))\n",
    "    print('Feature forest res for dataset %d is %f' % (index, features_forest_res))\n",
    "    print('Object forest res for dataset %d is %f' % (index, objects_forest_res))"
   ]
  },
  {
   "cell_type": "code",
   "execution_count": 152,
   "metadata": {},
   "outputs": [
    {
     "data": {
      "image/png": "[encoded data removed]",
      "text/plain": [
       "<Figure size 1296x360 with 1 Axes>"
      ]
     },
     "metadata": {
      "needs_background": "light"
     },
     "output_type": "display_data"
    }
   ],
   "source": [
    "width = 0.2\n",
    "datasets = np.array(range(21))\n",
    "f, ax = plt.subplots(figsize=(18,5))\n",
    "plt.bar(datasets - width, tree_scores, label='Дерево', width=width)\n",
    "plt.bar(datasets, random_forest_objects_scores, label='Случайные объекты', width=width)\n",
    "plt.bar(datasets + width, random_forest_features_scores, label='Случайные признаки', width=width)\n",
    "plt.xlabel('Номер датасета')\n",
    "plt.ylabel('Точность')\n",
    "plt.legend()\n",
    "plt.show()"
   ]
  },
  {
   "cell_type": "code",
   "execution_count": null,
   "metadata": {},
   "outputs": [],
   "source": []
  }
 ],
 "metadata": {
  "kernelspec": {
   "display_name": "Python 3",
   "language": "python",
   "name": "python3"
  },
  "language_info": {
   "codemirror_mode": {
    "name": "ipython",
    "version": 3
   },
   "file_extension": ".py",
   "mimetype": "text/x-python",
   "name": "python",
   "nbconvert_exporter": "python",
   "pygments_lexer": "ipython3",
   "version": "3.6.8"
  }
 },
 "nbformat": 4,
 "nbformat_minor": 2
}
