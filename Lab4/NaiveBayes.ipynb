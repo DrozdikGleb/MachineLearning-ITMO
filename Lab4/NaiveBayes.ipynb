{
 "cells": [
  {
   "cell_type": "code",
   "execution_count": 1,
   "metadata": {},
   "outputs": [],
   "source": [
    "import numpy as np\n",
    "import pandas as pd\n",
    "import matplotlib.pyplot as plt\n",
    "import os\n",
    "from collections import defaultdict\n",
    "from math import log\n",
    "from sklearn.metrics import accuracy_score"
   ]
  },
  {
   "cell_type": "code",
   "execution_count": 2,
   "metadata": {},
   "outputs": [],
   "source": [
    "path = \"messages/part\"\n",
    "SPAM = \"spam\"\n",
    "LEGIT = \"legit\"\n",
    "def getMarkedFiles(folderNumber):\n",
    "    curPath = path + str(folderNumber)\n",
    "    files = []\n",
    "    for filename in os.listdir(curPath):\n",
    "        if filename.startswith('.'):\n",
    "            continue\n",
    "        file = open(curPath + \"/\" + filename, 'r')\n",
    "        subject = list(map(int, file.readline().split()[1:]))\n",
    "        file.readline()\n",
    "        text = list(map(int, file.readline().split()))\n",
    "        if LEGIT in filename:\n",
    "            files.append((LEGIT, subject))\n",
    "            files.append((LEGIT, text))\n",
    "        else:\n",
    "            files.append((SPAM, subject))\n",
    "            files.append((SPAM, text))\n",
    "    return files"
   ]
  },
  {
   "cell_type": "markdown",
   "metadata": {},
   "source": [
    "<img src=\"smooth.png\" width=\"300\" height=\"200\">"
   ]
  },
  {
   "cell_type": "code",
   "execution_count": 3,
   "metadata": {},
   "outputs": [],
   "source": [
    "def bayes_model(data):\n",
    "    freq = defaultdict(lambda:0)\n",
    "    classes = defaultdict(lambda:0)\n",
    "    counts = defaultdict(lambda:0)\n",
    "    #msgType - spam or legit\n",
    "    for msgType, file in data:\n",
    "        for word in file:\n",
    "            freq[msgType, word] += 1.0     #частота встречаемости слов из письма в данном классе\n",
    "            counts[word] += 1.0            #количество данного слова в сообщении\n",
    "        classes[msgType] += len(file)       #количество слов у данного класса\n",
    "    for clazz in classes:\n",
    "        classes[clazz] /= len(trains)\n",
    "    return classes, freq, counts"
   ]
  },
  {
   "cell_type": "code",
   "execution_count": 4,
   "metadata": {},
   "outputs": [],
   "source": [
    "def classify(classifier, file, l_spam, l_legit, alpha):\n",
    "    classes, freq, counts = classifier\n",
    "    #argmax(C, P(C)*p(P(x_i|C))) = argmax(C, log(P(C) + sum(log(P(x_i|C))))))\n",
    "    spam_prob = log(classes[SPAM])\n",
    "    legit_prob = log(classes[LEGIT])\n",
    "    for word in file:\n",
    "        local_spam_prob = (freq[SPAM, word] + alpha) / (counts[word] + alpha * len(counts))\n",
    "        local_legit_prob = (freq[LEGIT, word] + alpha) / (counts[word] + alpha * len(counts))\n",
    "        spam_prob += log(local_spam_prob)\n",
    "        legit_prob += log(local_legit_prob)\n",
    "    spam_prob += log(l_spam)\n",
    "    legit_prob += log(l_legit)\n",
    "    if (spam_prob > legit_prob):\n",
    "        return SPAM\n",
    "    return LEGIT"
   ]
  },
  {
   "cell_type": "code",
   "execution_count": 5,
   "metadata": {},
   "outputs": [
    {
     "name": "stdout",
     "output_type": "stream",
     "text": [
      "alpha -  1e-08 accuracy -  0.9422018348623853\n",
      "alpha -  1e-07 accuracy -  0.9426605504587157\n",
      "alpha -  1e-06 accuracy -  0.9422018348623853\n",
      "alpha -  1e-05 accuracy -  0.9422018348623853\n",
      "alpha -  0.0001 accuracy -  0.9417431192660551\n",
      "alpha -  0.001 accuracy -  0.9412844036697248\n",
      "alpha -  0.01 accuracy -  0.9385321100917432\n",
      "alpha -  0.1 accuracy -  0.9325688073394496\n",
      "alpha -  1 accuracy -  0.9201834862385321\n"
     ]
    }
   ],
   "source": [
    "folds = [getMarkedFiles(i) for i in range(1, 11)]\n",
    "for alpha_deg in range(-8, 1):\n",
    "    alpha = 10 ** (alpha_deg)\n",
    "    total_score = 0\n",
    "    for test in folds:\n",
    "        meanClassifier = defaultdict(lambda:0), defaultdict(lambda:0)\n",
    "        train = []\n",
    "        predict = []\n",
    "        answer = []\n",
    "        for trains in folds:\n",
    "            if trains != test:\n",
    "                train = train + trains\n",
    "            bayes = bayes_model(train)\n",
    "        for clazz, file in test:\n",
    "            predClass = classify(bayes, file, 1, 1, alpha)\n",
    "            predict.append(int(predClass == SPAM))\n",
    "            answer.append(int(clazz == SPAM))\n",
    "        total_score += (accuracy_score(predict, answer))\n",
    "    print('alpha - ', alpha, 'accuracy - ', total_score / len(folds))"
   ]
  },
  {
   "cell_type": "code",
   "execution_count": 6,
   "metadata": {},
   "outputs": [
    {
     "name": "stdout",
     "output_type": "stream",
     "text": [
      "cnt -  5 lambda degree-  20\n",
      "cnt -  2 lambda degree-  40\n",
      "cnt -  1 lambda degree-  60\n",
      "cnt -  1 lambda degree-  80\n",
      "cnt -  0 lambda degree-  100\n"
     ]
    }
   ],
   "source": [
    "alpha = 1e-07\n",
    "for i in range(20, 101, 20):\n",
    "    lambd = 10 ** i\n",
    "    sum_score = 0\n",
    "    noPredictedRealAsSpam = True\n",
    "    cnt = -1\n",
    "    for test in folds:\n",
    "        train = []\n",
    "        predict = []\n",
    "        answer = []\n",
    "        for trains in folds:\n",
    "            if trains != test:\n",
    "                train = train + trains\n",
    "            bayes = bayes_model(train)\n",
    "        for clazz, file in test:\n",
    "            predClass = classify(bayes, file, 1, lambd, alpha)\n",
    "            predict.append(int(predClass == SPAM))\n",
    "            answer.append(int(clazz == SPAM))\n",
    "            if (predClass == SPAM and clazz == LEGIT):\n",
    "                cnt += 1\n",
    "        sum_score += (accuracy_score(predict, answer))\n",
    "    print(\"cnt - \", cnt, \"lambda degree- \", i)"
   ]
  },
  {
   "cell_type": "code",
   "execution_count": 8,
   "metadata": {},
   "outputs": [
    {
     "name": "stdout",
     "output_type": "stream",
     "text": [
      "lambda -  0 accuracy -  0.9426605504587157\n",
      "lambda -  5 accuracy -  0.8637614678899082\n",
      "lambda -  10 accuracy -  0.8146788990825689\n",
      "lambda -  15 accuracy -  0.7811926605504587\n",
      "lambda -  20 accuracy -  0.7600917431192661\n",
      "lambda -  25 accuracy -  0.7564220183486239\n",
      "lambda -  30 accuracy -  0.7536697247706422\n",
      "lambda -  35 accuracy -  0.7504587155963303\n",
      "lambda -  40 accuracy -  0.748165137614679\n",
      "lambda -  45 accuracy -  0.7412844036697248\n",
      "lambda -  50 accuracy -  0.7366972477064221\n",
      "lambda -  55 accuracy -  0.7339449541284403\n",
      "lambda -  60 accuracy -  0.728440366972477\n",
      "lambda -  65 accuracy -  0.7270642201834863\n",
      "lambda -  70 accuracy -  0.7247706422018347\n",
      "lambda -  75 accuracy -  0.7206422018348624\n",
      "lambda -  80 accuracy -  0.7169724770642201\n",
      "lambda -  85 accuracy -  0.7155963302752293\n",
      "lambda -  90 accuracy -  0.7128440366972477\n",
      "lambda -  95 accuracy -  0.7110091743119266\n",
      "lambda -  100 accuracy -  0.706880733944954\n"
     ]
    }
   ],
   "source": [
    "alpha = 1e-07\n",
    "sum_score = 0.0\n",
    "lambds = []\n",
    "accuracies = []\n",
    "for i in range(0, 101, 5):\n",
    "    lambd = 10 ** i\n",
    "    sum_score = 0\n",
    "    for test in folds:\n",
    "        meanClassifier = defaultdict(lambda:0), defaultdict(lambda:0)\n",
    "        train = []\n",
    "        predict = []\n",
    "        answer = []\n",
    "        for trains in folds:\n",
    "            if trains != test:\n",
    "                train = train + trains\n",
    "            meanClassifier = bayes_model(train)\n",
    "        for clazz, file in test:\n",
    "            predClass = classify(meanClassifier, file, 1, lambd, alpha)\n",
    "            predict.append(int(predClass == SPAM))\n",
    "            answer.append(int(clazz == SPAM))\n",
    "        sum_score += (accuracy_score(predict, answer))\n",
    "    lambds.append(i)\n",
    "    accuracies.append(sum_score / len(folds))\n",
    "    print(\"lambda - \", i, \"accuracy - \", sum_score / len(folds))"
   ]
  },
  {
   "cell_type": "code",
   "execution_count": 9,
   "metadata": {},
   "outputs": [
    {
     "data": {
      "text/plain": [
       "Text(0, 0.5, 'Accuracy')"
      ]
     },
     "execution_count": 9,
     "metadata": {},
     "output_type": "execute_result"
    },
    {
     "data": {
      "image/png": "[encoded data removed]",
      "text/plain": [
       "<Figure size 1080x432 with 1 Axes>"
      ]
     },
     "metadata": {
      "needs_background": "light"
     },
     "output_type": "display_data"
    }
   ],
   "source": [
    "plt.figure(figsize=(15, 6))\n",
    "plt.plot(lambds[1:], accuracies[1:])\n",
    "plt.xlabel('10^i lambda')\n",
    "plt.ylabel('Accuracy')"
   ]
  },
  {
   "cell_type": "code",
   "execution_count": null,
   "metadata": {},
   "outputs": [],
   "source": []
  }
 ],
 "metadata": {
  "kernelspec": {
   "display_name": "Python 3",
   "language": "python",
   "name": "python3"
  },
  "language_info": {
   "codemirror_mode": {
    "name": "ipython",
    "version": 3
   },
   "file_extension": ".py",
   "mimetype": "text/x-python",
   "name": "python",
   "nbconvert_exporter": "python",
   "pygments_lexer": "ipython3",
   "version": "3.6.8"
  }
 },
 "nbformat": 4,
 "nbformat_minor": 2
}
