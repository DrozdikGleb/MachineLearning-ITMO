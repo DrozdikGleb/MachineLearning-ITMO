{
 "cells": [
  {
   "cell_type": "code",
   "execution_count": 2,
   "metadata": {},
   "outputs": [],
   "source": [
    "import numpy as np\n",
    "from sklearn.model_selection import KFold\n",
    "import matplotlib.pyplot as plt\n",
    "import utils\n",
    "from tqdm import tqdm"
   ]
  },
  {
   "cell_type": "code",
   "execution_count": 3,
   "metadata": {},
   "outputs": [],
   "source": [
    "X_train, y_train = utils.load_mnist('data/numbers', kind='train')\n",
    "X_test, y_test = utils.load_mnist('data/numbers', kind='t10k')"
   ]
  },
  {
   "cell_type": "code",
   "execution_count": 4,
   "metadata": {},
   "outputs": [
    {
     "data": {
      "image/png": "[encoded data removed]",
      "text/plain": [
       "<Figure size 432x288 with 1 Axes>"
      ]
     },
     "metadata": {
      "needs_background": "light"
     },
     "output_type": "display_data"
    }
   ],
   "source": [
    "utils.show_image(X_train[0])"
   ]
  },
  {
   "cell_type": "code",
   "execution_count": null,
   "metadata": {},
   "outputs": [],
   "source": [
    "class Conv:\n",
    "    def __init__(self, filter_size = 3, num_filters = 8):\n",
    "        self.filter_size = filter_size\n",
    "        self.num_filters = num_filters\n",
    "        self.filters = np.random.randn(num_filters, filter_size, filter_size) / 9\n",
    "\n",
    "    def iterate_regions(self, image):\n",
    "        if len(image.shape) == 3:\n",
    "            h, w, _ = image.shape\n",
    "        else:\n",
    "            h, w = image.shape\n",
    "        for i in range(h - self.filter_size + 1):\n",
    "            for j in range(w - self.filter_size + 1):\n",
    "                im_region = image[i:(i + self.filter_size), j:(j + self.filter_size)]\n",
    "                yield np.sum(im_region, axis=2), i, j\n",
    "\n",
    "    def forward(self, input):\n",
    "        if len(input.shape) == 2:\n",
    "            input = input.reshape((input.shape[0], input.shape[1], 1))\n",
    "        h, w, _ = input.shape\n",
    "        self.last_input = input\n",
    "        output = np.zeros((h - self.filter_size + 1, w - self.filter_size + 1, self.num_filters))\n",
    "\n",
    "        for im_region, i, j in self.iterate_regions(input):\n",
    "            output[i, j] = np.sum(im_region * self.filters, axis=(1, 2))\n",
    "        return output\n",
    "    \n",
    "    def back_prop(self, d_L_d_out, learn_rate = 0.0005):\n",
    "        d_L_d_filters = np.zeros(self.filters.shape)\n",
    "        for im_region, i, j in self.iterate_regions(self.last_input):\n",
    "            for f in range(self.num_filters):\n",
    "                d_L_d_filters[f] += d_L_d_out[i, j, f] * im_region\n",
    "        \n",
    "        d_loss_d_input = np.zeros(self.last_input.shape)\n",
    "        for im_region, i, j in self.iterate_regions(d_L_d_out):\n",
    "            d_loss_d_input[i][j] = np.sum(im_region * self.filters, axis=(0, 1, 2))\n",
    "                \n",
    "        self.filters -= learn_rate * d_L_d_filters\n",
    "    \n",
    "        return d_loss_d_input\n",
    "\n",
    "class MaxPool:\n",
    "    def __init__(self, pool_size = 2):\n",
    "        self.pool_size = pool_size\n",
    "\n",
    "    def iterate_regions(self, image):\n",
    "        h, w, _ = image.shape\n",
    "\n",
    "        for i in range(h // 2):\n",
    "            for j in range(w // 2):\n",
    "                im_region = image[(i * 2):(i * 2 + 2), (j * 2):(j * 2 + 2)]\n",
    "                yield im_region, i, j\n",
    "\n",
    "    def forward(self, input):\n",
    "        self.last_input = input\n",
    "        h, w, num_filters = input.shape\n",
    "\n",
    "        output = np.zeros((h // 2, w // 2, num_filters))\n",
    "\n",
    "        for im_region, i, j in self.iterate_regions(input):\n",
    "            output[i][j] = np.amax(im_region, axis = (0, 1))\n",
    "        return output\n",
    "    def back_prop(self, d_L_d_out):\n",
    "        d_L_d_input = np.zeros(self.last_input.shape)\n",
    "\n",
    "        for im_region, i, j in self.iterate_regions(self.last_input):\n",
    "            h, w, f = im_region.shape\n",
    "            amax = np.amax(im_region, axis=(0, 1))\n",
    "            for i2 in range(h):\n",
    "                for j2 in range(w):\n",
    "                    for f2 in range(f):\n",
    "                        if im_region[i2, j2, f2] == amax[f2]:\n",
    "                            d_L_d_input[i * 2 + i2, j * 2 + j2, f2] = d_L_d_out[i, j, f2]\n",
    "\n",
    "        return d_L_d_input\n",
    "    \n",
    "class SoftMax:\n",
    "    def __init__(self, input_len, nodes_num = 10, learn_rate = 0.0005):\n",
    "        self.learn_rate = learn_rate\n",
    "        self.input_len = input_len\n",
    "        self.weights = np.random.randn(input_len, nodes_num) / input_len\n",
    "        self.biases = np.zeros(nodes_num)\n",
    "    \n",
    "    def forward(self, input):\n",
    "        self.last_input_shape = input.shape\n",
    "        input = input.flatten()\n",
    "        self.last_input = input\n",
    "        input_len, nodes = self.weights.shape\n",
    "        totals = np.dot(input, self.weights) + self.biases\n",
    "        self.last_totals = totals\n",
    "        exp = np.exp(totals)\n",
    "        return exp / np.sum(exp, axis=0)\n",
    "    \n",
    "    def back_prop(self, d_L_d_out):\n",
    "        for i, gradient in enumerate(d_L_d_out):\n",
    "            if gradient == 0:\n",
    "                continue\n",
    "            t_exp = np.exp(self.last_totals)\n",
    "            S = np.sum(t_exp)\n",
    "            d_out_d_t = -t_exp[i] * t_exp / (S ** 2)\n",
    "            d_out_d_t[i] = t_exp[i] * (S - t_exp[i]) / (S ** 2)\n",
    "            \n",
    "            d_t_d_w = self.last_input\n",
    "            d_t_d_b = 1\n",
    "            d_t_d_inputs = self.weights\n",
    " \n",
    "            d_L_d_t = gradient * d_out_d_t\n",
    " \n",
    "            # Gradients of loss against weights/biases/input\n",
    "            d_L_d_w = d_t_d_w[np.newaxis].T @ d_L_d_t[np.newaxis]\n",
    "            d_L_d_b = d_L_d_t * d_t_d_b\n",
    "            d_L_d_inputs = d_t_d_inputs @ d_L_d_t\n",
    "            self.weights -= self.learn_rate * d_L_d_w\n",
    "            self.biases -= self.learn_rate * d_L_d_b\n",
    "            \n",
    "            return d_L_d_inputs.reshape(self.last_input_shape)"
   ]
  },
  {
   "cell_type": "code",
   "execution_count": null,
   "metadata": {},
   "outputs": [],
   "source": [
    "class CNN:\n",
    "    def __init__(self, layers):\n",
    "        self.layers = layers\n",
    "    \n",
    "    def forward(self, image, label):\n",
    "        first_layer = self.layers[0]\n",
    "        prev_out = first_layer.forward((image / 255) - 0.5)\n",
    "        for i in range(1, len(self.layers)):\n",
    "            cur_layer = self.layers[i]\n",
    "            out = cur_layer.forward(prev_out)\n",
    "            prev_out = out\n",
    "        loss = -np.log(prev_out[label])\n",
    "        acc = 1 if np.argmax(prev_out) == label else 0\n",
    "        return out, loss, acc\n",
    "    \n",
    "    def predict(self, image):\n",
    "        first_layer = self.layers[0]\n",
    "        prev_out = first_layer.forward((image / 255) - 0.5)\n",
    "        for i in range(1, len(self.layers)):\n",
    "            cur_layer = self.layers[i]\n",
    "            out = cur_layer.forward(prev_out)\n",
    "            prev_out = out\n",
    "        return np.argmax(prev_out)\n",
    "    \n",
    "    def train(self, train_images, label_images, epochs_num = 1):\n",
    "        for epoch_num in range(epochs_num):\n",
    "            cur_acc = 0\n",
    "            leng = len(train_images)\n",
    "            for i in tqdm(range(leng)):\n",
    "                cur_train_image = train_images[i]\n",
    "                cur_label = label_images[i]\n",
    "                cur_acc += self.train_inner(cur_train_image, cur_label)\n",
    "                \n",
    "    def train_inner(self, im, label):\n",
    "        out, _, acc = self.forward(im, label)\n",
    "\n",
    "        gradient = np.zeros(10)\n",
    "        gradient[label] = -1 / out[label]\n",
    "        for i in range(len(self.layers) - 1, -1, -1):\n",
    "            gradient = self.layers[i].back_prop(gradient)\n",
    "        return acc"
   ]
  },
  {
   "cell_type": "code",
   "execution_count": null,
   "metadata": {},
   "outputs": [],
   "source": [
    "def count_accuracy(cnn, test_images, test_labels):\n",
    "    n = 10\n",
    "    conf_matrix = [[0 for x in range(10)] for y in range(10)]\n",
    "    obj_num = len(test_images)\n",
    "    p = 0\n",
    "    for i in tqdm(range(obj_num)):\n",
    "        true_label = test_labels[i]\n",
    "        predicted_label = cnn.predict(test_images[i])\n",
    "        if (true_label == predicted_label):\n",
    "            p += 1\n",
    "        conf_matrix[true_label][predicted_label] += 1\n",
    "    return conf_matrix, (1 - p / obj_num)"
   ]
  },
  {
   "cell_type": "code",
   "execution_count": null,
   "metadata": {},
   "outputs": [],
   "source": [
    "layers = [Conv(), MaxPool(2), SoftMax(13 * 13 * 8)]\n",
    "cnn = CNN(layers)\n",
    "cnn.train(X_train, y_train)\n",
    "tqdm._instances.clear()"
   ]
  },
  {
   "cell_type": "code",
   "execution_count": null,
   "metadata": {},
   "outputs": [],
   "source": [
    "utils.show_image(X_train[1])"
   ]
  },
  {
   "cell_type": "code",
   "execution_count": 2,
   "metadata": {},
   "outputs": [
    {
     "ename": "NameError",
     "evalue": "name 'count_accuracy' is not defined",
     "output_type": "error",
     "traceback": [
      "\u001b[0;31m---------------------------------------------------------------------------\u001b[0m",
      "\u001b[0;31mNameError\u001b[0m                                 Traceback (most recent call last)",
      "\u001b[0;32m<ipython-input-2-6edd97b32774>\u001b[0m in \u001b[0;36m<module>\u001b[0;34m\u001b[0m\n\u001b[0;32m----> 1\u001b[0;31m \u001b[0mconf_matrix\u001b[0m\u001b[0;34m,\u001b[0m \u001b[0merror_rate\u001b[0m \u001b[0;34m=\u001b[0m \u001b[0mcount_accuracy\u001b[0m\u001b[0;34m(\u001b[0m\u001b[0mcnn\u001b[0m\u001b[0;34m,\u001b[0m \u001b[0mX_test\u001b[0m\u001b[0;34m,\u001b[0m \u001b[0my_test\u001b[0m\u001b[0;34m)\u001b[0m\u001b[0;34m\u001b[0m\u001b[0;34m\u001b[0m\u001b[0m\n\u001b[0m\u001b[1;32m      2\u001b[0m \u001b[0mprint\u001b[0m\u001b[0;34m(\u001b[0m\u001b[0merror_rate\u001b[0m\u001b[0;34m)\u001b[0m\u001b[0;34m\u001b[0m\u001b[0;34m\u001b[0m\u001b[0m\n\u001b[1;32m      3\u001b[0m \u001b[0mprint\u001b[0m\u001b[0;34m(\u001b[0m\u001b[0mnp\u001b[0m\u001b[0;34m.\u001b[0m\u001b[0mmatrix\u001b[0m\u001b[0;34m(\u001b[0m\u001b[0mconf_matrix\u001b[0m\u001b[0;34m)\u001b[0m\u001b[0;34m)\u001b[0m\u001b[0;34m\u001b[0m\u001b[0;34m\u001b[0m\u001b[0m\n",
      "\u001b[0;31mNameError\u001b[0m: name 'count_accuracy' is not defined"
     ]
    }
   ],
   "source": [
    "conf_matrix, error_rate = count_accuracy(cnn, X_test, y_test)\n",
    "print(error_rate)\n",
    "print(np.matrix(conf_matrix))"
   ]
  },
  {
   "cell_type": "code",
   "execution_count": 48,
   "metadata": {},
   "outputs": [],
   "source": [
    "tqdm._instances.clear()"
   ]
  },
  {
   "cell_type": "code",
   "execution_count": 49,
   "metadata": {},
   "outputs": [
    {
     "name": "stderr",
     "output_type": "stream",
     "text": [
      "  1%|          | 49/5000 [00:03<06:20, 13.03it/s]\n",
      "100%|██████████| 5000/5000 [06:54<00:00, 12.13it/s]\n"
     ]
    }
   ],
   "source": [
    "layers1 = [Conv(), Conv(), MaxPool(2), SoftMax(12 * 12 * 8)]\n",
    "cnn1 = CNN(layers1)\n",
    "cnn1.train(X_train[0:5000], y_train[0:5000])\n",
    "tqdm._instances.clear()"
   ]
  },
  {
   "cell_type": "code",
   "execution_count": 50,
   "metadata": {},
   "outputs": [
    {
     "name": "stderr",
     "output_type": "stream",
     "text": [
      "100%|██████████| 1000/1000 [00:19<00:00, 51.93it/s]"
     ]
    },
    {
     "name": "stdout",
     "output_type": "stream",
     "text": [
      "0.139\n",
      "[[ 82   0   0   0   0   1   1   0   0   1]\n",
      " [  0 123   1   1   0   0   0   0   1   0]\n",
      " [  0   1 102   1   0   0   1   5   5   1]\n",
      " [  0   1   1  83   0  12   3   5   1   1]\n",
      " [  0   0   1   0  89   1   3   2   0  14]\n",
      " [  1   0   3   1   2  72   2   3   2   1]\n",
      " [  3   0   0   0   3   2  77   2   0   0]\n",
      " [  0   4   4   0   1   0   0  86   0   4]\n",
      " [  0   0   3   4   1   7   0   4  69   1]\n",
      " [  0   1   0   1   2   0   0  10   2  78]]\n"
     ]
    },
    {
     "name": "stderr",
     "output_type": "stream",
     "text": [
      "\n"
     ]
    }
   ],
   "source": [
    "conf_matrix1, error_rate1 = count_accuracy(cnn1, X_test[0:1000], y_test[0:1000])\n",
    "print(error_rate1)\n",
    "print(np.matrix(conf_matrix1))"
   ]
  },
  {
   "cell_type": "code",
   "execution_count": 51,
   "metadata": {},
   "outputs": [
    {
     "name": "stderr",
     "output_type": "stream",
     "text": [
      "100%|██████████| 5000/5000 [04:48<00:00, 18.41it/s]\n"
     ]
    }
   ],
   "source": [
    "layers2 = [Conv(), MaxPool(2), Conv(), MaxPool(2), SoftMax(5 * 5 * 8)]\n",
    "cnn2 = CNN(layers2)\n",
    "cnn2.train(X_train[0:5000], y_train[0:5000])\n",
    "tqdm._instances.clear()"
   ]
  },
  {
   "cell_type": "code",
   "execution_count": 83,
   "metadata": {},
   "outputs": [
    {
     "name": "stderr",
     "output_type": "stream",
     "text": [
      "100%|██████████| 1000/1000 [00:11<00:00, 86.21it/s]"
     ]
    },
    {
     "name": "stdout",
     "output_type": "stream",
     "text": [
      "0.17800000000000005\n",
      "[[ 76   0   2   0   0   1   2   4   0   0]\n",
      " [  0 124   1   0   0   0   1   0   0   0]\n",
      " [  1   4  93   1   1   0   1   5   0   0]\n",
      " [  0   4   3  72   0   7   0   8   1   2]\n",
      " [  0   3   4   0  59   1   5   4   0   4]\n",
      " [  0   2   2   3   1  57   5   3   3   1]\n",
      " [  2   2   2   0   1   2  74   3   1   0]\n",
      " [  0   4   9   0   1   0   0  69   2   4]\n",
      " [  1   9   5   6   1   9   1   6  44   7]\n",
      " [  0   3   0   0   0   0   0   3   4  74]]\n"
     ]
    },
    {
     "name": "stderr",
     "output_type": "stream",
     "text": [
      "\n"
     ]
    }
   ],
   "source": [
    "conf_matrix2, error_rate2 = count_accuracy(cnn2, X_test[0:1000], y_test[0:1000])\n",
    "print(error_rate2)\n",
    "print(np.matrix(conf_matrix2))"
   ]
  },
  {
   "cell_type": "code",
   "execution_count": 68,
   "metadata": {},
   "outputs": [],
   "source": [
    "fashion_X_train, fashion_y_train = load_mnist('data/fashion', kind='train')\n",
    "fashion_X_test, fashion_y_test = load_mnist('data/fashion', kind='t10k')"
   ]
  },
  {
   "cell_type": "code",
   "execution_count": 72,
   "metadata": {},
   "outputs": [
    {
     "name": "stderr",
     "output_type": "stream",
     "text": [
      "100%|██████████| 10000/10000 [07:33<00:00, 22.07it/s]\n"
     ]
    }
   ],
   "source": [
    "best_arch = [Conv(), MaxPool(2), SoftMax(13 * 13 * 8)]\n",
    "fashion_cnn = CNN(best_arch)\n",
    "fashion_cnn.train(fashion_X_train[0:10000], fashion_y_train[0:10000])\n",
    "tqdm._instances.clear()"
   ]
  },
  {
   "cell_type": "code",
   "execution_count": 84,
   "metadata": {},
   "outputs": [
    {
     "name": "stderr",
     "output_type": "stream",
     "text": [
      "100%|██████████| 1000/1000 [00:10<00:00, 94.04it/s]"
     ]
    },
    {
     "name": "stdout",
     "output_type": "stream",
     "text": [
      "0.14\n",
      "[[79  0  1  5  0  1 10  0  1  0]\n",
      " [ 0 98  0  6  0  0  1  0  0  0]\n",
      " [ 1  0 52  2  1  0  4  0  1  0]\n",
      " [ 1  2  0 79  0  0 10  0  1  0]\n",
      " [ 0  0  3  9 56  0  6  0  1  0]\n",
      " [ 0  0  0  0  0 77  0  8  1  1]\n",
      " [10  1  6  5  0  4 69  0  2  0]\n",
      " [ 0  0  0  0  0  8  0 81  0  6]\n",
      " [ 0  1  0  1  0  5  2  0 86  0]\n",
      " [ 0  0  0  0  0  7  0  5  0 83]]\n"
     ]
    },
    {
     "name": "stderr",
     "output_type": "stream",
     "text": [
      "\n"
     ]
    }
   ],
   "source": [
    "fashion_conf_matrix, fashion_error_rate = count_accuracy(fashion_cnn, fashion_X_test[0:1000], fashion_y_test[0:1000])\n",
    "print(fashion_error_rate)\n",
    "print(np.matrix(fashion_conf_matrix))"
   ]
  },
  {
   "cell_type": "code",
   "execution_count": null,
   "metadata": {},
   "outputs": [],
   "source": []
  }
 ],
 "metadata": {
  "kernelspec": {
   "display_name": "Python 3",
   "language": "python",
   "name": "python3"
  },
  "language_info": {
   "codemirror_mode": {
    "name": "ipython",
    "version": 3
   },
   "file_extension": ".py",
   "mimetype": "text/x-python",
   "name": "python",
   "nbconvert_exporter": "python",
   "pygments_lexer": "ipython3",
   "version": "3.6.8"
  }
 },
 "nbformat": 4,
 "nbformat_minor": 2
}
